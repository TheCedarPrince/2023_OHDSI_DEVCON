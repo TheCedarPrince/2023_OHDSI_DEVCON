{
 "cells": [
  {
   "cell_type": "markdown",
   "id": "armed-peeing",
   "metadata": {
    "slideshow": {
     "slide_type": "slide"
    }
   },
   "source": [
    "# Julia for Global Health Research and Collaboration\n",
    "\n",
    "## 2023 OHDSI DevCon\n",
    "\n",
    "### Jacob S. Zelko"
   ]
  },
  {
   "cell_type": "markdown",
   "id": "australian-paragraph",
   "metadata": {
    "slideshow": {
     "slide_type": "slide"
    }
   },
   "source": [
    "# My Name Is Jacob Zelko!\n",
    "\n",
    "- TheCedarPrince; Open Source Developer (Javis.jl, JuliaHealth, the cedar ledge)\n",
    "\n",
    "- Chair of Julia Community Development Fund & Mentor for Julia Gender Inclusive\n",
    "\n",
    "- Researcher @ GTRI and CDC\n",
    "\n",
    "- Applied Math MS @ NEU (Roux Institute)"
   ]
  },
  {
   "cell_type": "markdown",
   "id": "productive-zimbabwe",
   "metadata": {
    "slideshow": {
     "slide_type": "subslide"
    }
   },
   "source": [
    "![](resized_about.jpeg)"
   ]
  },
  {
   "cell_type": "code",
   "execution_count": null,
   "id": "personalized-peninsula",
   "metadata": {},
   "outputs": [],
   "source": []
  }
 ],
 "metadata": {
  "celltoolbar": "Slideshow",
  "kernelspec": {
   "display_name": "Julia 1.7.2",
   "language": "julia",
   "name": "julia-1.7"
  },
  "language_info": {
   "file_extension": ".jl",
   "mimetype": "application/julia",
   "name": "julia",
   "version": "1.7.2"
  }
 },
 "nbformat": 4,
 "nbformat_minor": 5
}
