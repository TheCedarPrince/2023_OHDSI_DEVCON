{
 "cells": [
  {
   "cell_type": "markdown",
   "metadata": {
    "name": "Slide ",
    "slideshow": {
     "slide_type": "slide"
    }
   },
   "source": [
    "# Julia for Global Health Research and Collaboration\n",
    "\n",
    "## 2023 OHDSI DevCon\n",
    "\n",
    "### Jacob S. Zelko"
   ]
  },
  {
   "cell_type": "markdown",
   "metadata": {
    "name": "Slide ",
    "slideshow": {
     "slide_type": "slide"
    }
   },
   "source": [
    "# My Name Is Jacob Zelko!\n",
    "\n",
    "- TheCedarPrince; Open Source Developer (Javis.jl, JuliaHealth, the cedar ledge)\n",
    "\n",
    "- Chair of Julia Community Development Fund & Mentor for Julia Gender Inclusive\n",
    "\n",
    "- Researcher @ GTRI and CDC\n",
    "\n",
    "- Applied Math MS @ NEU (Roux Institute)"
   ]
  },
  {
   "cell_type": "markdown",
   "metadata": {
    "name": "Slide ",
    "slideshow": {
     "slide_type": "subslide"
    }
   },
   "source": [
    "![](resized_about.jpeg)"
   ]
  },
  {
   "cell_type": "markdown",
   "metadata": {
    "name": "Slide ",
    "slideshow": {
     "slide_type": "slide"
    }
   },
   "source": [
    "# What Are the Goals of OHDSI?"
   ]
  },
  {
   "cell_type": "markdown",
   "metadata": {
    "name": "Slide ",
    "slideshow": {
     "slide_type": "fragment"
    }
   },
   "source": [
    "1. **International open science collaborative dedicated to observational health research**"
   ]
  },
  {
   "cell_type": "markdown",
   "metadata": {
    "name": "Slide ",
    "slideshow": {
     "slide_type": "fragment"
    }
   },
   "source": [
    "2. Establish open community data standards"
   ]
  },
  {
   "cell_type": "markdown",
   "metadata": {
    "name": "Slide ",
    "slideshow": {
     "slide_type": "fragment"
    }
   },
   "source": [
    "3. **Make end to end solutions of translating observational data to reliable evidence**"
   ]
  },
  {
   "cell_type": "markdown",
   "metadata": {
    "name": "Slide ",
    "slideshow": {
     "slide_type": "slide"
    }
   },
   "source": [
    "# What Am I Doing in OHDSI?\n",
    "\n",
    "Develop package to characterize populations with mental health conditions, investigate prevalence of mental health care, and utilization of mental health resources in rural and urban communities.\n",
    "\n",
    "1. Identify vulnerable populations and their characteristics\n",
    "\n",
    "2. Examine loss to follow up\n",
    "\n",
    "3. Conduct large scale observational health research"
   ]
  },
  {
   "cell_type": "markdown",
   "metadata": {
    "name": "Slide ",
    "slideshow": {
     "slide_type": "slide"
    }
   },
   "source": [
    "# Where Is the Project Today?\n",
    "\n",
    "- Deploying study with collaborators across the globe\n",
    "\n",
    "- Final weeks of ongoing study!\n",
    "\n",
    "- Stretch Goal: 100 million patients"
   ]
  },
  {
   "cell_type": "markdown",
   "metadata": {
    "name": "Slide ",
    "slideshow": {
     "slide_type": "slide"
    }
   },
   "source": [
    "# What Is Julia?"
   ]
  },
  {
   "cell_type": "markdown",
   "metadata": {},
   "source": [
    "![](julia_gif.gif)"
   ]
  },
  {
   "cell_type": "markdown",
   "metadata": {},
   "source": [
    "_Walks like Python, talks like Lisp, runs like Fortran_"
   ]
  },
  {
   "cell_type": "markdown",
   "metadata": {
    "name": "Slide ",
    "slideshow": {
     "slide_type": "subslide"
    }
   },
   "source": [
    "## Brief History\n",
    "\n",
    "- Created at MIT in 2012\n",
    "\n",
    "- Designed for scientific, numerical and high performance computing\n",
    "\n",
    "- Addresses the \"Two Language\" problem"
   ]
  },
  {
   "cell_type": "markdown",
   "metadata": {
    "name": "Slide ",
    "slideshow": {
     "slide_type": "subslide"
    }
   },
   "source": [
    "## Two Language Problem?\n",
    "\n",
    "- You start out prototyping in one language\n",
    "\n",
    "- Performance needs forces switch to a different one"
   ]
  },
  {
   "cell_type": "markdown",
   "metadata": {
    "name": "Slide ",
    "slideshow": {
     "slide_type": "subslide"
    }
   },
   "source": [
    "Julia is supposed to be fast so let's put it to the test:"
   ]
  },
  {
   "cell_type": "code",
   "execution_count": 4,
   "metadata": {},
   "outputs": [
    {
     "data": {
      "text/plain": [
       "my_sum"
      ]
     },
     "execution_count": 4,
     "metadata": {},
     "output_type": "execute_result"
    }
   ],
   "source": [
    "\"\"\"\n",
    "Naive implementation of sum. Works for any iterable `x` with any element type.\n",
    "\"\"\"\n",
    "function my_sum(x)\n",
    "    result = zero(eltype(x))\n",
    "    for element in x\n",
    "        result += element\n",
    "    end\n",
    "    return result\n",
    "end"
   ]
  },
  {
   "cell_type": "markdown",
   "metadata": {
    "name": "Slide ",
    "slideshow": {
     "slide_type": "subslide"
    }
   },
   "source": [
    "Let's make some fake data to test `my_sum` with:"
   ]
  },
  {
   "cell_type": "code",
   "execution_count": 9,
   "metadata": {},
   "outputs": [],
   "source": [
    "data = rand(Float64, 10^3)\n",
    "data = data .* 10 |> result -> round.(Int, result);"
   ]
  },
  {
   "cell_type": "markdown",
   "metadata": {},
   "source": [
    "And finally let's time `my_sum`:"
   ]
  },
  {
   "cell_type": "code",
   "execution_count": 10,
   "metadata": {},
   "outputs": [
    {
     "name": "stdout",
     "output_type": "stream",
     "text": [
      "  67.112 ns (0 allocations: 0 bytes)\n"
     ]
    },
    {
     "data": {
      "text/plain": [
       "5112"
      ]
     },
     "execution_count": 10,
     "metadata": {},
     "output_type": "execute_result"
    }
   ],
   "source": [
    "using BenchmarkTools\n",
    "@btime my_sum($data)"
   ]
  },
  {
   "cell_type": "markdown",
   "metadata": {
    "name": "Slide ",
    "slideshow": {
     "slide_type": "subslide"
    }
   },
   "source": [
    "Hm, can we make it faster?"
   ]
  },
  {
   "cell_type": "code",
   "execution_count": 6,
   "metadata": {},
   "outputs": [
    {
     "data": {
      "text/plain": [
       "my_fast_sum (generic function with 1 method)"
      ]
     },
     "execution_count": 6,
     "metadata": {},
     "output_type": "execute_result"
    }
   ],
   "source": [
    "function my_fast_sum(x)\n",
    "    result = zero(eltype(x))\n",
    "    @inbounds @simd for element in x\n",
    "        result += element\n",
    "    end\n",
    "    result\n",
    "end"
   ]
  },
  {
   "cell_type": "markdown",
   "metadata": {},
   "source": [
    "Let's time it:"
   ]
  },
  {
   "cell_type": "code",
   "execution_count": 11,
   "metadata": {},
   "outputs": [
    {
     "name": "stdout",
     "output_type": "stream",
     "text": [
      "  44.492 ns (0 allocations: 0 bytes)\n"
     ]
    },
    {
     "data": {
      "text/plain": [
       "5112"
      ]
     },
     "execution_count": 11,
     "metadata": {},
     "output_type": "execute_result"
    }
   ],
   "source": [
    "@btime my_fast_sum($data)"
   ]
  },
  {
   "cell_type": "markdown",
   "metadata": {
    "name": "Slide ",
    "slideshow": {
     "slide_type": "subslide"
    }
   },
   "source": [
    "Great! Let's see how these all compare starting with our original `my_sum`:"
   ]
  },
  {
   "cell_type": "code",
   "execution_count": 14,
   "metadata": {},
   "outputs": [
    {
     "name": "stdout",
     "output_type": "stream",
     "text": [
      "  67.110 ns (0 allocations: 0 bytes)\n"
     ]
    },
    {
     "data": {
      "text/plain": [
       "5112"
      ]
     },
     "execution_count": 14,
     "metadata": {},
     "output_type": "execute_result"
    }
   ],
   "source": [
    "@btime my_sum($data)"
   ]
  },
  {
   "cell_type": "markdown",
   "metadata": {},
   "source": [
    "Then `my_fast_sum`"
   ]
  },
  {
   "cell_type": "code",
   "execution_count": 13,
   "metadata": {},
   "outputs": [
    {
     "name": "stdout",
     "output_type": "stream",
     "text": [
      "  44.487 ns (0 allocations: 0 bytes)\n"
     ]
    },
    {
     "data": {
      "text/plain": [
       "5112"
      ]
     },
     "execution_count": 13,
     "metadata": {},
     "output_type": "execute_result"
    }
   ],
   "source": [
    "@btime my_fast_sum($data)"
   ]
  },
  {
   "cell_type": "markdown",
   "metadata": {},
   "source": [
    "And let's see how it compares to the native Julia `sum` function"
   ]
  },
  {
   "cell_type": "code",
   "execution_count": 12,
   "metadata": {},
   "outputs": [
    {
     "name": "stdout",
     "output_type": "stream",
     "text": [
      "  65.855 ns (0 allocations: 0 bytes)\n"
     ]
    },
    {
     "data": {
      "text/plain": [
       "5112"
      ]
     },
     "execution_count": 12,
     "metadata": {},
     "output_type": "execute_result"
    }
   ],
   "source": [
    "@btime sum($data)"
   ]
  },
  {
   "cell_type": "markdown",
   "metadata": {
    "name": "Slide ",
    "slideshow": {
     "slide_type": "slide"
    }
   },
   "source": [
    "# Building Bridges with Julia\n",
    "![](bridges.jpg)"
   ]
  },
  {
   "cell_type": "markdown",
   "metadata": {
    "name": "Slide ",
    "slideshow": {
     "slide_type": "slide"
    }
   },
   "source": [
    "# Building Bridges with Julia"
   ]
  },
  {
   "cell_type": "markdown",
   "metadata": {
    "name": "Slide ",
    "slideshow": {
     "slide_type": "fragment"
    }
   },
   "source": [
    "![](jacob.jpg)"
   ]
  },
  {
   "cell_type": "markdown",
   "metadata": {
    "name": "Slide ",
    "slideshow": {
     "slide_type": "subslide"
    }
   },
   "source": [
    "![](hadley.jpg)"
   ]
  },
  {
   "cell_type": "markdown",
   "metadata": {
    "name": "Slide ",
    "slideshow": {
     "slide_type": "slide"
    }
   },
   "source": [
    "# Patient Characterization in Julia\n",
    "- Goal: Create characterization of patients across three axes who have had at least one prior diagnosis of strep throat.\n",
    "- Concept Set: $28060$ (Streptococcal sore throat; SNOMED)"
   ]
  },
  {
   "cell_type": "markdown",
   "metadata": {
    "name": "Slide ",
    "slideshow": {
     "slide_type": "slide"
    }
   },
   "source": [
    "## Environment Set-Up\n",
    "\n",
    "For all Julia projects, you only need a Project.toml and Manifest.toml.\n",
    "These specify package dependencies and their versions down to transient dependencies."
   ]
  },
  {
   "cell_type": "code",
   "execution_count": 2,
   "metadata": {},
   "outputs": [
    {
     "name": "stderr",
     "output_type": "stream",
     "text": [
      "\u001b[32m\u001b[1m  Activating\u001b[22m\u001b[39m project at `~/Errata/DevCon`\n"
     ]
    }
   ],
   "source": [
    "using Pkg\n",
    "Pkg.activate(\".\")"
   ]
  },
  {
   "cell_type": "markdown",
   "metadata": {
    "name": "Slide ",
    "slideshow": {
     "slide_type": "subslide"
    }
   },
   "source": [
    "We'll be using the following packages:\n",
    "\n",
    "- [`DataFrames`](https://github.com/JuliaData/DataFrames.jl) - Julia's dataframe handler for easily manipulating data\n",
    "\n",
    "- [`OMOPCDMCohortCreator`](https://github.com/JuliaHealth/OMOPCDMCohortCreator.jl) - Iteratively create patient cohorts from databases utilizing the OMOP CDM\n",
    "\n",
    "- [`HealthSampleData`](https://github.com/JuliaHealth/HealthSampleData.jl) - Sample health data for a variety of health formats and use cases\n",
    "\n",
    "- [`SQLite`](https://github.com/JuliaDatabases/SQLite.jl) - A Julia interface to the SQLite library"
   ]
  },
  {
   "cell_type": "markdown",
   "metadata": {
    "name": "Slide ",
    "slideshow": {
     "slide_type": "subslide"
    }
   },
   "source": [
    "# Data\n",
    "\n",
    "We'll use data provided from Eunomia that is stored in a SQLite format."
   ]
  },
  {
   "cell_type": "code",
   "execution_count": null,
   "metadata": {},
   "outputs": [],
   "source": [
    "import HealthSampleData: Eunomia\n",
    "eunomia = Eunomia();"
   ]
  },
  {
   "cell_type": "markdown",
   "metadata": {
    "name": "Slide ",
    "slideshow": {
     "slide_type": "fragment"
    }
   },
   "source": [
    "To connect to the database, we'll do the following:"
   ]
  },
  {
   "cell_type": "code",
   "execution_count": null,
   "metadata": {},
   "outputs": [],
   "source": [
    "import SQLite: DB\n",
    "conn = DB(eunomia);"
   ]
  },
  {
   "cell_type": "markdown",
   "metadata": {
    "name": "Slide ",
    "slideshow": {
     "slide_type": "subslide"
    }
   },
   "source": [
    "To generate connection details, we do the following (NOTE: this is boiler plate that will eventually be handled in the background):"
   ]
  },
  {
   "cell_type": "code",
   "execution_count": null,
   "metadata": {},
   "outputs": [],
   "source": [
    "import OMOPCDMCohortCreator as occ\n",
    "\n",
    "occ.GenerateDatabaseDetails(:sqlite, \"\");\n",
    "occ.GenerateTables(conn);"
   ]
  },
  {
   "cell_type": "markdown",
   "metadata": {
    "name": "Slide ",
    "slideshow": {
     "slide_type": "subslide"
    }
   },
   "source": [
    "## Finding all Patients with Strep Throat"
   ]
  },
  {
   "cell_type": "code",
   "execution_count": null,
   "metadata": {},
   "outputs": [],
   "source": [
    "strep_patients = occ.ConditionFilterPersonIDs(28060, conn);\n",
    "size(strep_patients) |> num -> println(\"Number of patients with Strep: $(num[1])\")"
   ]
  },
  {
   "cell_type": "markdown",
   "metadata": {
    "name": "Slide ",
    "slideshow": {
     "slide_type": "subslide"
    }
   },
   "source": [
    "## Finding race of all Patients with Strep Throat"
   ]
  },
  {
   "cell_type": "code",
   "execution_count": null,
   "metadata": {},
   "outputs": [],
   "source": [
    "strep_patients_race = occ.GetPatientRace(strep_patients.person_id, conn)\n",
    "strep_patients_race[1, :] |> println"
   ]
  },
  {
   "cell_type": "markdown",
   "metadata": {
    "name": "Slide ",
    "slideshow": {
     "slide_type": "subslide"
    }
   },
   "source": [
    "## Finding gender of all Patients with Strep Throat"
   ]
  },
  {
   "cell_type": "code",
   "execution_count": null,
   "metadata": {},
   "outputs": [],
   "source": [
    "strep_patients_gender = occ.GetPatientGender(strep_patients.person_id, conn)\n",
    "strep_patients_gender[1, :] |> println"
   ]
  },
  {
   "cell_type": "markdown",
   "metadata": {
    "name": "Slide ",
    "slideshow": {
     "slide_type": "subslide"
    }
   },
   "source": [
    "## Creating age groupings of all Patients with Strep Throat"
   ]
  },
  {
   "cell_type": "code",
   "execution_count": null,
   "metadata": {},
   "outputs": [],
   "source": [
    "age_groups = [[0, 4], [5, 9], [10, 14],\t[15, 19], [20, 24], [25, 29], [30, 34],\n",
    "[35, 39], [40, 44], [45, 49], [50, 54], [55, 59], [60, 64], [65, 69], [70, 74],\n",
    "[75, 79], [80, 84], [85, 89], [90, 94], [95, 99], [100, 104], [105, 109]]\n",
    "strep_patients_age_group = occ.GetPatientAgeGroup(strep_patients.person_id, conn; age_groupings = age_groups)\n",
    "strep_patients_age_group[1, :] |> println"
   ]
  },
  {
   "cell_type": "markdown",
   "metadata": {
    "name": "Slide ",
    "slideshow": {
     "slide_type": "subslide"
    }
   },
   "source": [
    "Aside, we can generate SQL representations of all queries used so far"
   ]
  },
  {
   "cell_type": "code",
   "execution_count": null,
   "metadata": {},
   "outputs": [],
   "source": [
    "occ.GetPatientAgeGroup([1]; age_groupings = age_groups) |> println"
   ]
  },
  {
   "cell_type": "markdown",
   "metadata": {
    "name": "Slide ",
    "slideshow": {
     "slide_type": "subslide"
    }
   },
   "source": [
    "## Characterize Each Person by Gender, Race, and Age Group"
   ]
  },
  {
   "cell_type": "code",
   "execution_count": null,
   "metadata": {},
   "outputs": [],
   "source": [
    "import DataFrames as DF\n",
    "\n",
    "strep_patients_characterized = DF.outerjoin(strep_patients_race, strep_patients_gender, strep_patients_age_group; on = :person_id, matchmissing = :equal)\n",
    "strep_patients_characterized[1, :] |> println"
   ]
  },
  {
   "cell_type": "markdown",
   "metadata": {
    "name": "Slide ",
    "slideshow": {
     "slide_type": "subslide"
    }
   },
   "source": [
    "# Finalizing Patient Characterization\n",
    "We can now group up our patients into population groups"
   ]
  },
  {
   "cell_type": "code",
   "execution_count": null,
   "metadata": {},
   "outputs": [],
   "source": [
    "strep_patients_characterized = strep_patients_characterized[:, DF.Not(:person_id)]\n",
    "\n",
    "strep_patient_groups = DF.groupby(strep_patients_characterized, [:race_concept_id,\n",
    ":gender_concept_id,\n",
    ":age_group]\n",
    ")\n",
    "\n",
    "strep_patient_groups = DF.combine(strep_patient_groups, DF.nrow => :count)"
   ]
  },
  {
   "cell_type": "markdown",
   "metadata": {
    "name": "Slide ",
    "slideshow": {
     "slide_type": "subslide"
    }
   },
   "source": [
    "## Execute Safety Audit"
   ]
  },
  {
   "cell_type": "code",
   "execution_count": null,
   "metadata": {},
   "outputs": [],
   "source": [
    "audited_strep_patient_groups = occ.ExecuteAudit(strep_patient_groups; hitech = true)"
   ]
  },
  {
   "cell_type": "markdown",
   "metadata": {
    "name": "Slide ",
    "slideshow": {
     "slide_type": "slide"
    }
   },
   "source": [
    "# Ways To Get Involved\n",
    "\n",
    "- Experiment with Julia Health packages and ecosystem\n",
    "  - Patient Level Prediction\n",
    "  - Coarse Treatment Pathways\n",
    "  - HPC ETL Pipeline\n",
    "\n",
    "- Drop into JuliaHealth Meetings or Julia Community\n",
    "\n",
    "- Running Birds of a Feather event at JuliaCon (Boston)"
   ]
  },
  {
   "cell_type": "markdown",
   "metadata": {
    "name": "Slide ",
    "slideshow": {
     "slide_type": "slide"
    }
   },
   "source": [
    "\n",
    "# Let's Do Network Studies!\n",
    "\n",
    "- Conducting network studies is entirely possible in Julia\n",
    "\n",
    "- Growing network of sites are friendly to Julia projects\n",
    "  - Georgia Tech Research Institute\n",
    "  - Brown University DBMI\n",
    "  - Tufts CTSI\n",
    "\n",
    "- Enable more people to participate"
   ]
  },
  {
   "cell_type": "markdown",
   "metadata": {
    "name": "Slide ",
    "slideshow": {
     "slide_type": "slide"
    }
   },
   "source": [
    "# Concluding Thoughts\n",
    "\n",
    "![](alan.jpg)"
   ]
  },
  {
   "cell_type": "markdown",
   "metadata": {
    "name": "Slide ",
    "slideshow": {
     "slide_type": "slide"
    }
   },
   "source": [
    "# Keep in Touch!\n",
    "\n",
    "- Email: jacob.zelko@gtri.gatech.edu\n",
    "\n",
    "- Website: https://jacobzelko.com/resources/\n",
    "\n",
    "- Twitch: https://www.twitch.tv/thecedarprince\n",
    "\n",
    "- OHDSI Microsoft Teams"
   ]
  },
  {
   "cell_type": "markdown",
   "metadata": {},
   "source": [
    "---\n",
    "\n",
    "*This notebook was generated using [Literate.jl](https://github.com/fredrikekre/Literate.jl).*"
   ]
  }
 ],
 "metadata": {
  "celltoolbar": "Slideshow",
  "kernelspec": {
   "display_name": "Julia 1.8.5",
   "language": "julia",
   "name": "julia-1.8"
  },
  "language_info": {
   "file_extension": ".jl",
   "mimetype": "application/julia",
   "name": "julia",
   "version": "1.8.5"
  }
 },
 "nbformat": 4,
 "nbformat_minor": 3
}
